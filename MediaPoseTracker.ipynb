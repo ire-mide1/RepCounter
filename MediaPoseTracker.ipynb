{
 "cells": [
  {
   "cell_type": "code",
   "execution_count": 1,
   "id": "fdb185c6-c706-4044-85db-39b413b2bb1f",
   "metadata": {},
   "outputs": [
    {
     "name": "stdout",
     "output_type": "stream",
     "text": [
      "Requirement already satisfied: mediapipe in c:\\users\\iremide\\anaconda3\\lib\\site-packages (0.10.14)\n",
      "Requirement already satisfied: opencv-python in c:\\users\\iremide\\appdata\\roaming\\python\\python39\\site-packages (4.9.0.80)\n",
      "Requirement already satisfied: protobuf<5,>=4.25.3 in c:\\users\\iremide\\anaconda3\\lib\\site-packages (from mediapipe) (4.25.4)\n",
      "Requirement already satisfied: jaxlib in c:\\users\\iremide\\anaconda3\\lib\\site-packages (from mediapipe) (0.4.30)\n",
      "Requirement already satisfied: sounddevice>=0.4.4 in c:\\users\\iremide\\anaconda3\\lib\\site-packages (from mediapipe) (0.5.0)\n",
      "Requirement already satisfied: jax in c:\\users\\iremide\\anaconda3\\lib\\site-packages (from mediapipe) (0.4.30)\n",
      "Requirement already satisfied: matplotlib in c:\\users\\iremide\\anaconda3\\lib\\site-packages (from mediapipe) (3.4.3)\n",
      "Requirement already satisfied: numpy in c:\\users\\iremide\\anaconda3\\lib\\site-packages (from mediapipe) (1.26.4)\n",
      "Requirement already satisfied: flatbuffers>=2.0 in c:\\users\\iremide\\anaconda3\\lib\\site-packages (from mediapipe) (24.3.25)\n",
      "Requirement already satisfied: attrs>=19.1.0 in c:\\users\\iremide\\anaconda3\\lib\\site-packages (from mediapipe) (21.2.0)\n",
      "Requirement already satisfied: absl-py in c:\\users\\iremide\\anaconda3\\lib\\site-packages (from mediapipe) (2.1.0)\n",
      "Requirement already satisfied: opencv-contrib-python in c:\\users\\iremide\\anaconda3\\lib\\site-packages (from mediapipe) (4.10.0.84)\n",
      "Requirement already satisfied: CFFI>=1.0 in c:\\users\\iremide\\anaconda3\\lib\\site-packages (from sounddevice>=0.4.4->mediapipe) (1.14.6)\n",
      "Requirement already satisfied: pycparser in c:\\users\\iremide\\anaconda3\\lib\\site-packages (from CFFI>=1.0->sounddevice>=0.4.4->mediapipe) (2.20)\n",
      "Requirement already satisfied: scipy>=1.9 in c:\\users\\iremide\\anaconda3\\lib\\site-packages (from jax->mediapipe) (1.12.0)\n",
      "Requirement already satisfied: opt-einsum in c:\\users\\iremide\\anaconda3\\lib\\site-packages (from jax->mediapipe) (3.3.0)\n",
      "Requirement already satisfied: importlib-metadata>=4.6 in c:\\users\\iremide\\anaconda3\\lib\\site-packages (from jax->mediapipe) (4.8.1)\n",
      "Requirement already satisfied: ml-dtypes>=0.2.0 in c:\\users\\iremide\\anaconda3\\lib\\site-packages (from jax->mediapipe) (0.4.0)\n",
      "Requirement already satisfied: zipp>=0.5 in c:\\users\\iremide\\anaconda3\\lib\\site-packages (from importlib-metadata>=4.6->jax->mediapipe) (3.6.0)\n",
      "Requirement already satisfied: cycler>=0.10 in c:\\users\\iremide\\anaconda3\\lib\\site-packages (from matplotlib->mediapipe) (0.10.0)\n",
      "Requirement already satisfied: pillow>=6.2.0 in c:\\users\\iremide\\anaconda3\\lib\\site-packages (from matplotlib->mediapipe) (10.2.0)\n",
      "Requirement already satisfied: pyparsing>=2.2.1 in c:\\users\\iremide\\anaconda3\\lib\\site-packages (from matplotlib->mediapipe) (3.0.4)\n",
      "Requirement already satisfied: kiwisolver>=1.0.1 in c:\\users\\iremide\\anaconda3\\lib\\site-packages (from matplotlib->mediapipe) (1.3.1)\n",
      "Requirement already satisfied: python-dateutil>=2.7 in c:\\users\\iremide\\anaconda3\\lib\\site-packages (from matplotlib->mediapipe) (2.8.2)\n",
      "Requirement already satisfied: six in c:\\users\\iremide\\anaconda3\\lib\\site-packages (from cycler>=0.10->matplotlib->mediapipe) (1.16.0)\n"
     ]
    }
   ],
   "source": [
    "#Install dependencies\n",
    "!pip install mediapipe opencv-python"
   ]
  },
  {
   "cell_type": "code",
   "execution_count": 2,
   "id": "a498c1e3-ac9b-4b0b-9359-2b88bb391a78",
   "metadata": {},
   "outputs": [],
   "source": [
    "#Import libraries\n",
    "import cv2\n",
    "import mediapipe as mp\n",
    "import numpy as np\n",
    "mp_drawing = mp.solutions.drawing_utils #visualize our pose\n",
    "mp_pose = mp.solutions.pose #pose estimation model"
   ]
  },
  {
   "cell_type": "code",
   "execution_count": 3,
   "id": "7f4dbccb-a2fe-4744-9412-bbe5f605403c",
   "metadata": {},
   "outputs": [
    {
     "data": {
      "text/plain": [
       "<function destroyAllWindows>"
      ]
     },
     "execution_count": 3,
     "metadata": {},
     "output_type": "execute_result"
    }
   ],
   "source": [
    "#Get Realtime Video from Webcam\n",
    "cap = cv2.VideoCapture(0)   #0 represents my webcam\n",
    "while cap.isOpened():\n",
    "    ret, frame = cap.read()   #give me current read from capture, ret returns nothing, frame gives us the image from our webcam\n",
    "    cv2.imshow('Mediapipe Feed', frame)\n",
    "\n",
    "    if cv2.waitKey(10) & 0xFF == ord('q'):   #checking if we close our screen\n",
    "        break\n",
    "\n",
    "cap.release()\n",
    "cv2.destroyAllWindows"
   ]
  },
  {
   "cell_type": "code",
   "execution_count": null,
   "id": "4908d27b-2fd6-4199-9131-291c14dad1b6",
   "metadata": {},
   "outputs": [],
   "source": [
    "#MAKE DETECTION"
   ]
  },
  {
   "cell_type": "code",
   "execution_count": 4,
   "id": "3d5f24aa-c174-4f13-ae6d-8d025e35fc45",
   "metadata": {},
   "outputs": [
    {
     "name": "stderr",
     "output_type": "stream",
     "text": [
      "C:\\Users\\Iremide\\anaconda3\\lib\\site-packages\\google\\protobuf\\symbol_database.py:55: UserWarning: SymbolDatabase.GetPrototype() is deprecated. Please use message_factory.GetMessageClass() instead. SymbolDatabase.GetPrototype() will be removed soon.\n",
      "  warnings.warn('SymbolDatabase.GetPrototype() is deprecated. Please '\n"
     ]
    }
   ],
   "source": [
    "cap = cv2.VideoCapture(0)\n",
    "## Setup mediapipe instance\n",
    "with mp_pose.Pose(min_detection_confidence=0.5, min_tracking_confidence=0.5) as pose:\n",
    "    while cap.isOpened():\n",
    "        ret, frame = cap.read()\n",
    "        \n",
    "        # Recolor image to RGB\n",
    "        image = cv2.cvtColor(frame, cv2.COLOR_BGR2RGB)\n",
    "        image.flags.writeable = False\n",
    "      \n",
    "        # Make detection\n",
    "        results = pose.process(image)\n",
    "    \n",
    "        # Recolor back to BGR\n",
    "        image.flags.writeable = True\n",
    "        image = cv2.cvtColor(image, cv2.COLOR_RGB2BGR)\n",
    "        \n",
    "        # Render detections\n",
    "        mp_drawing.draw_landmarks(image, results.pose_landmarks, mp_pose.POSE_CONNECTIONS,\n",
    "                                mp_drawing.DrawingSpec(color=(245,117,66), thickness=2, circle_radius=2), \n",
    "                                mp_drawing.DrawingSpec(color=(245,66,230), thickness=2, circle_radius=2) \n",
    "                                 )               \n",
    "        \n",
    "        cv2.imshow('Mediapipe Feed', image)\n",
    "\n",
    "        if cv2.waitKey(10) & 0xFF == ord('q'):\n",
    "            break\n",
    "\n",
    "    cap.release()\n",
    "    cv2.destroyAllWindows()"
   ]
  },
  {
   "cell_type": "code",
   "execution_count": 5,
   "id": "345120c3-7262-42ef-86ea-d10285e8827e",
   "metadata": {},
   "outputs": [
    {
     "data": {
      "text/plain": [
       "\u001b[1;31mInit signature:\u001b[0m\n",
       "\u001b[0mmp_drawing\u001b[0m\u001b[1;33m.\u001b[0m\u001b[0mDrawingSpec\u001b[0m\u001b[1;33m(\u001b[0m\u001b[1;33m\n",
       "\u001b[0m    \u001b[0mcolor\u001b[0m\u001b[1;33m:\u001b[0m \u001b[0mTuple\u001b[0m\u001b[1;33m[\u001b[0m\u001b[0mint\u001b[0m\u001b[1;33m,\u001b[0m \u001b[0mint\u001b[0m\u001b[1;33m,\u001b[0m \u001b[0mint\u001b[0m\u001b[1;33m]\u001b[0m \u001b[1;33m=\u001b[0m \u001b[1;33m(\u001b[0m\u001b[1;36m224\u001b[0m\u001b[1;33m,\u001b[0m \u001b[1;36m224\u001b[0m\u001b[1;33m,\u001b[0m \u001b[1;36m224\u001b[0m\u001b[1;33m)\u001b[0m\u001b[1;33m,\u001b[0m\u001b[1;33m\n",
       "\u001b[0m    \u001b[0mthickness\u001b[0m\u001b[1;33m:\u001b[0m \u001b[0mint\u001b[0m \u001b[1;33m=\u001b[0m \u001b[1;36m2\u001b[0m\u001b[1;33m,\u001b[0m\u001b[1;33m\n",
       "\u001b[0m    \u001b[0mcircle_radius\u001b[0m\u001b[1;33m:\u001b[0m \u001b[0mint\u001b[0m \u001b[1;33m=\u001b[0m \u001b[1;36m2\u001b[0m\u001b[1;33m,\u001b[0m\u001b[1;33m\n",
       "\u001b[0m\u001b[1;33m)\u001b[0m \u001b[1;33m->\u001b[0m \u001b[1;32mNone\u001b[0m\u001b[1;33m\u001b[0m\u001b[1;33m\u001b[0m\u001b[0m\n",
       "\u001b[1;31mDocstring:\u001b[0m      DrawingSpec(color: Tuple[int, int, int] = (224, 224, 224), thickness: int = 2, circle_radius: int = 2)\n",
       "\u001b[1;31mSource:\u001b[0m        \n",
       "\u001b[1;33m@\u001b[0m\u001b[0mdataclasses\u001b[0m\u001b[1;33m.\u001b[0m\u001b[0mdataclass\u001b[0m\u001b[1;33m\n",
       "\u001b[0m\u001b[1;32mclass\u001b[0m \u001b[0mDrawingSpec\u001b[0m\u001b[1;33m:\u001b[0m\u001b[1;33m\n",
       "\u001b[0m  \u001b[1;31m# Color for drawing the annotation. Default to the white color.\u001b[0m\u001b[1;33m\n",
       "\u001b[0m  \u001b[0mcolor\u001b[0m\u001b[1;33m:\u001b[0m \u001b[0mTuple\u001b[0m\u001b[1;33m[\u001b[0m\u001b[0mint\u001b[0m\u001b[1;33m,\u001b[0m \u001b[0mint\u001b[0m\u001b[1;33m,\u001b[0m \u001b[0mint\u001b[0m\u001b[1;33m]\u001b[0m \u001b[1;33m=\u001b[0m \u001b[0mWHITE_COLOR\u001b[0m\u001b[1;33m\n",
       "\u001b[0m  \u001b[1;31m# Thickness for drawing the annotation. Default to 2 pixels.\u001b[0m\u001b[1;33m\n",
       "\u001b[0m  \u001b[0mthickness\u001b[0m\u001b[1;33m:\u001b[0m \u001b[0mint\u001b[0m \u001b[1;33m=\u001b[0m \u001b[1;36m2\u001b[0m\u001b[1;33m\n",
       "\u001b[0m  \u001b[1;31m# Circle radius. Default to 2 pixels.\u001b[0m\u001b[1;33m\n",
       "\u001b[0m  \u001b[0mcircle_radius\u001b[0m\u001b[1;33m:\u001b[0m \u001b[0mint\u001b[0m \u001b[1;33m=\u001b[0m \u001b[1;36m2\u001b[0m\u001b[1;33m\u001b[0m\u001b[1;33m\u001b[0m\u001b[0m\n",
       "\u001b[1;31mFile:\u001b[0m           c:\\users\\iremide\\anaconda3\\lib\\site-packages\\mediapipe\\python\\solutions\\drawing_utils.py\n",
       "\u001b[1;31mType:\u001b[0m           type\n",
       "\u001b[1;31mSubclasses:\u001b[0m     \n"
      ]
     },
     "metadata": {},
     "output_type": "display_data"
    }
   ],
   "source": [
    "mp_drawing.DrawingSpec??"
   ]
  },
  {
   "cell_type": "code",
   "execution_count": null,
   "id": "1942d9d0-07eb-4b1f-96b1-e79ee4707177",
   "metadata": {},
   "outputs": [],
   "source": [
    "#DETERMINE JOINTS"
   ]
  },
  {
   "cell_type": "code",
   "execution_count": 6,
   "id": "1822e4e2-7fb2-42cc-b11c-f7915dcb3a0e",
   "metadata": {},
   "outputs": [],
   "source": [
    "cap = cv2.VideoCapture(0)\n",
    "## Setup mediapipe instance\n",
    "with mp_pose.Pose(min_detection_confidence=0.5, min_tracking_confidence=0.5) as pose:\n",
    "    while cap.isOpened():\n",
    "        ret, frame = cap.read()\n",
    "        \n",
    "        # Recolor image to RGB\n",
    "        image = cv2.cvtColor(frame, cv2.COLOR_BGR2RGB)\n",
    "        image.flags.writeable = False\n",
    "      \n",
    "        # Make detection\n",
    "        results = pose.process(image)\n",
    "    \n",
    "        # Recolor back to BGR\n",
    "        image.flags.writeable = True\n",
    "        image = cv2.cvtColor(image, cv2.COLOR_RGB2BGR)\n",
    "        \n",
    "        \n",
    "        # Render detections\n",
    "        mp_drawing.draw_landmarks(image, results.pose_landmarks, mp_pose.POSE_CONNECTIONS,\n",
    "                                mp_drawing.DrawingSpec(color=(245,117,66), thickness=2, circle_radius=2), \n",
    "                                mp_drawing.DrawingSpec(color=(245,66,230), thickness=2, circle_radius=2) \n",
    "                                 )               \n",
    "        \n",
    "        cv2.imshow('Mediapipe Feed', image)\n",
    "\n",
    "        if cv2.waitKey(10) & 0xFF == ord('q'):\n",
    "            break\n",
    "\n",
    "    cap.release()\n",
    "    cv2.destroyAllWindows()"
   ]
  },
  {
   "cell_type": "code",
   "execution_count": 14,
   "id": "e3d9b30e-c492-475f-b66a-0f0db4eae48e",
   "metadata": {
    "scrolled": true,
    "tags": []
   },
   "outputs": [
    {
     "data": {
      "text/plain": [
       "[x: 0.41758424\n",
       "y: 0.736434877\n",
       "z: -1.89285791\n",
       "visibility: 0.989897132\n",
       ", x: 0.45208016\n",
       "y: 0.637729228\n",
       "z: -1.81079352\n",
       "visibility: 0.987018049\n",
       ", x: 0.472230494\n",
       "y: 0.643927336\n",
       "z: -1.81029665\n",
       "visibility: 0.988654912\n",
       ", x: 0.491589844\n",
       "y: 0.651455522\n",
       "z: -1.8101114\n",
       "visibility: 0.988713086\n",
       ", x: 0.397724479\n",
       "y: 0.625286877\n",
       "z: -1.83125246\n",
       "visibility: 0.986160159\n",
       ", x: 0.377844423\n",
       "y: 0.623133898\n",
       "z: -1.83141291\n",
       "visibility: 0.98452729\n",
       ", x: 0.358047098\n",
       "y: 0.623219371\n",
       "z: -1.8313185\n",
       "visibility: 0.983365834\n",
       ", x: 0.500458896\n",
       "y: 0.681186736\n",
       "z: -1.18524528\n",
       "visibility: 0.986861408\n",
       ", x: 0.310439169\n",
       "y: 0.650380909\n",
       "z: -1.27861142\n",
       "visibility: 0.98436749\n",
       ", x: 0.441555738\n",
       "y: 0.819088876\n",
       "z: -1.6265825\n",
       "visibility: 0.941515267\n",
       ", x: 0.373687416\n",
       "y: 0.807853758\n",
       "z: -1.65903187\n",
       "visibility: 0.94310987\n",
       ", x: 0.669455826\n",
       "y: 1.09459317\n",
       "z: -0.886324763\n",
       "visibility: 0.527622521\n",
       ", x: 0.148890719\n",
       "y: 0.99147296\n",
       "z: -0.794104517\n",
       "visibility: 0.433863789\n",
       ", x: 0.743181646\n",
       "y: 1.32377827\n",
       "z: -0.738126636\n",
       "visibility: 0.184901744\n",
       ", x: 0.00750815\n",
       "y: 1.14742827\n",
       "z: -0.5510782\n",
       "visibility: 0.100220367\n",
       ", x: 0.588025749\n",
       "y: 1.05981672\n",
       "z: -1.10651815\n",
       "visibility: 0.137443334\n",
       ", x: 0.1414942\n",
       "y: 0.864741206\n",
       "z: -0.394300461\n",
       "visibility: 0.0722178221\n",
       ", x: 0.563473821\n",
       "y: 0.992792428\n",
       "z: -1.1995784\n",
       "visibility: 0.188188523\n",
       ", x: 0.174310416\n",
       "y: 0.791162372\n",
       "z: -0.45393309\n",
       "visibility: 0.113939956\n",
       ", x: 0.555763721\n",
       "y: 0.953104734\n",
       "z: -1.20115685\n",
       "visibility: 0.231655568\n",
       ", x: 0.178883076\n",
       "y: 0.771418869\n",
       "z: -0.470055819\n",
       "visibility: 0.145242199\n",
       ", x: 0.554510474\n",
       "y: 0.976112485\n",
       "z: -1.11875677\n",
       "visibility: 0.210782513\n",
       ", x: 0.176048741\n",
       "y: 0.803006411\n",
       "z: -0.414697081\n",
       "visibility: 0.133421019\n",
       ", x: 0.536286235\n",
       "y: 2.25115561\n",
       "z: -0.217751786\n",
       "visibility: 0.000836921332\n",
       ", x: 0.227259248\n",
       "y: 2.2315135\n",
       "z: 0.223479673\n",
       "visibility: 0.00106044253\n",
       ", x: 0.508958638\n",
       "y: 1.92899072\n",
       "z: -0.698868334\n",
       "visibility: 0.00941562559\n",
       ", x: 0.109159693\n",
       "y: 1.84910762\n",
       "z: -0.556847453\n",
       "visibility: 0.0102769183\n",
       ", x: 0.453226805\n",
       "y: 2.29188466\n",
       "z: 0.082573995\n",
       "visibility: 0.00158248283\n",
       ", x: 0.217752606\n",
       "y: 2.0516274\n",
       "z: 0.214152694\n",
       "visibility: 0.000905915513\n",
       ", x: 0.442785561\n",
       "y: 2.39591646\n",
       "z: 0.127672032\n",
       "visibility: 0.00167757017\n",
       ", x: 0.228768349\n",
       "y: 2.09861326\n",
       "z: 0.267454684\n",
       "visibility: 0.000966886524\n",
       ", x: 0.416623056\n",
       "y: 2.26923323\n",
       "z: -0.440917492\n",
       "visibility: 0.00426008133\n",
       ", x: 0.187292874\n",
       "y: 2.02091312\n",
       "z: -0.201270968\n",
       "visibility: 0.0025454266\n",
       "]"
      ]
     },
     "execution_count": 14,
     "metadata": {},
     "output_type": "execute_result"
    }
   ],
   "source": [
    "landmarks = results.pose_landmarks.landmark\n",
    "landmarks"
   ]
  },
  {
   "cell_type": "code",
   "execution_count": 11,
   "id": "48e2f19b-f8eb-48c8-a004-3110aad8be23",
   "metadata": {},
   "outputs": [
    {
     "name": "stdout",
     "output_type": "stream",
     "text": [
      "PoseLandmark.NOSE\n",
      "PoseLandmark.LEFT_EYE_INNER\n",
      "PoseLandmark.LEFT_EYE\n",
      "PoseLandmark.LEFT_EYE_OUTER\n",
      "PoseLandmark.RIGHT_EYE_INNER\n",
      "PoseLandmark.RIGHT_EYE\n",
      "PoseLandmark.RIGHT_EYE_OUTER\n",
      "PoseLandmark.LEFT_EAR\n",
      "PoseLandmark.RIGHT_EAR\n",
      "PoseLandmark.MOUTH_LEFT\n",
      "PoseLandmark.MOUTH_RIGHT\n",
      "PoseLandmark.LEFT_SHOULDER\n",
      "PoseLandmark.RIGHT_SHOULDER\n",
      "PoseLandmark.LEFT_ELBOW\n",
      "PoseLandmark.RIGHT_ELBOW\n",
      "PoseLandmark.LEFT_WRIST\n",
      "PoseLandmark.RIGHT_WRIST\n",
      "PoseLandmark.LEFT_PINKY\n",
      "PoseLandmark.RIGHT_PINKY\n",
      "PoseLandmark.LEFT_INDEX\n",
      "PoseLandmark.RIGHT_INDEX\n",
      "PoseLandmark.LEFT_THUMB\n",
      "PoseLandmark.RIGHT_THUMB\n",
      "PoseLandmark.LEFT_HIP\n",
      "PoseLandmark.RIGHT_HIP\n",
      "PoseLandmark.LEFT_KNEE\n",
      "PoseLandmark.RIGHT_KNEE\n",
      "PoseLandmark.LEFT_ANKLE\n",
      "PoseLandmark.RIGHT_ANKLE\n",
      "PoseLandmark.LEFT_HEEL\n",
      "PoseLandmark.RIGHT_HEEL\n",
      "PoseLandmark.LEFT_FOOT_INDEX\n",
      "PoseLandmark.RIGHT_FOOT_INDEX\n"
     ]
    }
   ],
   "source": [
    "for lndmrk in mp_pose.PoseLandmark:\n",
    "    print(lndmrk)"
   ]
  },
  {
   "cell_type": "code",
   "execution_count": 15,
   "id": "1ef7c0a0-cd08-44da-9de5-14998affd4dd",
   "metadata": {},
   "outputs": [
    {
     "data": {
      "text/plain": [
       "33"
      ]
     },
     "execution_count": 15,
     "metadata": {},
     "output_type": "execute_result"
    }
   ],
   "source": [
    "len(landmarks)"
   ]
  },
  {
   "cell_type": "code",
   "execution_count": 16,
   "id": "aae3771d-f85e-43b1-9cde-e812be29ab00",
   "metadata": {},
   "outputs": [
    {
     "data": {
      "text/plain": [
       "0.5276225209236145"
      ]
     },
     "execution_count": 16,
     "metadata": {},
     "output_type": "execute_result"
    }
   ],
   "source": [
    "landmarks[mp_pose.PoseLandmark.LEFT_SHOULDER.value].visibility"
   ]
  },
  {
   "cell_type": "code",
   "execution_count": 17,
   "id": "bb2f65e2-5614-4c13-814a-ad5f7d8f6885",
   "metadata": {},
   "outputs": [
    {
     "data": {
      "text/plain": [
       "x: 0.743181646\n",
       "y: 1.32377827\n",
       "z: -0.738126636\n",
       "visibility: 0.184901744"
      ]
     },
     "execution_count": 17,
     "metadata": {},
     "output_type": "execute_result"
    }
   ],
   "source": [
    "landmarks[mp_pose.PoseLandmark.LEFT_ELBOW.value]"
   ]
  },
  {
   "cell_type": "code",
   "execution_count": 18,
   "id": "eb28dd36-1e16-4864-b05d-28e668c5a1fa",
   "metadata": {},
   "outputs": [
    {
     "data": {
      "text/plain": [
       "x: 0.588025749\n",
       "y: 1.05981672\n",
       "z: -1.10651815\n",
       "visibility: 0.137443334"
      ]
     },
     "execution_count": 18,
     "metadata": {},
     "output_type": "execute_result"
    }
   ],
   "source": [
    "landmarks[mp_pose.PoseLandmark.LEFT_WRIST.value]"
   ]
  },
  {
   "cell_type": "code",
   "execution_count": null,
   "id": "610eaabe-9956-4ae4-8418-3a2663bfc8ad",
   "metadata": {},
   "outputs": [],
   "source": [
    "#CALCULATE ANGLES"
   ]
  },
  {
   "cell_type": "code",
   "execution_count": 19,
   "id": "06625819-e893-45a9-b86b-37a9cee8f88e",
   "metadata": {},
   "outputs": [],
   "source": [
    "def calculate_angle(a,b,c):\n",
    "    a = np.array(a) # First\n",
    "    b = np.array(b) # Mid\n",
    "    c = np.array(c) # End\n",
    "    \n",
    "    radians = np.arctan2(c[1]-b[1], c[0]-b[0]) - np.arctan2(a[1]-b[1], a[0]-b[0])\n",
    "    angle = np.abs(radians*180.0/np.pi)\n",
    "    \n",
    "    if angle >180.0:\n",
    "        angle = 360-angle\n",
    "        \n",
    "    return angle "
   ]
  },
  {
   "cell_type": "code",
   "execution_count": 20,
   "id": "8c03e46d-ff02-4fd7-946d-090179e5b6d8",
   "metadata": {},
   "outputs": [],
   "source": [
    "shoulder = [landmarks[mp_pose.PoseLandmark.LEFT_SHOULDER.value].x,landmarks[mp_pose.PoseLandmark.LEFT_SHOULDER.value].y]\n",
    "elbow = [landmarks[mp_pose.PoseLandmark.LEFT_ELBOW.value].x,landmarks[mp_pose.PoseLandmark.LEFT_ELBOW.value].y]\n",
    "wrist = [landmarks[mp_pose.PoseLandmark.LEFT_WRIST.value].x,landmarks[mp_pose.PoseLandmark.LEFT_WRIST.value].y]"
   ]
  },
  {
   "cell_type": "code",
   "execution_count": 21,
   "id": "45e2517a-574a-44d2-a01d-dfcf466f3087",
   "metadata": {},
   "outputs": [
    {
     "data": {
      "text/plain": [
       "([0.6694558262825012, 1.0945931673049927],\n",
       " [0.7431816458702087, 1.3237782716751099],\n",
       " [0.5880257487297058, 1.0598167181015015])"
      ]
     },
     "execution_count": 21,
     "metadata": {},
     "output_type": "execute_result"
    }
   ],
   "source": [
    "shoulder, elbow, wrist"
   ]
  },
  {
   "cell_type": "code",
   "execution_count": 22,
   "id": "36cb0144-dcd2-4b1b-b94c-3f6a0c5db11d",
   "metadata": {},
   "outputs": [
    {
     "data": {
      "text/plain": [
       "12.614601631295656"
      ]
     },
     "execution_count": 22,
     "metadata": {},
     "output_type": "execute_result"
    }
   ],
   "source": [
    "calculate_angle(shoulder, elbow, wrist)"
   ]
  },
  {
   "cell_type": "code",
   "execution_count": 23,
   "id": "02c3074a-ca69-4dcc-a226-9ccb27383cb7",
   "metadata": {},
   "outputs": [
    {
     "data": {
      "text/plain": [
       "(475, 635)"
      ]
     },
     "execution_count": 23,
     "metadata": {},
     "output_type": "execute_result"
    }
   ],
   "source": [
    "tuple(np.multiply(elbow, [640, 480]).astype(int))"
   ]
  },
  {
   "cell_type": "code",
   "execution_count": 24,
   "id": "37fb837e-1efb-446f-8f60-9db67d34a42e",
   "metadata": {},
   "outputs": [],
   "source": [
    "#CAPTURE VIDEO CHOOSING ANGLE OF THE RIGHT SHOULDER, ELBOW AND WRIST\n",
    "cap = cv2.VideoCapture(0)\n",
    "## Setup mediapipe instance\n",
    "with mp_pose.Pose(min_detection_confidence=0.5, min_tracking_confidence=0.5) as pose:\n",
    "    while cap.isOpened():\n",
    "        ret, frame = cap.read()\n",
    "        \n",
    "        # Recolor image to RGB\n",
    "        image = cv2.cvtColor(frame, cv2.COLOR_BGR2RGB)\n",
    "        image.flags.writeable = False\n",
    "      \n",
    "        # Make detection\n",
    "        results = pose.process(image)\n",
    "    \n",
    "        # Recolor back to BGR\n",
    "        image.flags.writeable = True\n",
    "        image = cv2.cvtColor(image, cv2.COLOR_RGB2BGR)\n",
    "        \n",
    "        # Extract landmarks\n",
    "        try:\n",
    "            landmarks = results.pose_landmarks.landmark\n",
    "            \n",
    "            # Get coordinates\n",
    "            shoulder = [landmarks[mp_pose.PoseLandmark.LEFT_SHOULDER.value].x,landmarks[mp_pose.PoseLandmark.LEFT_SHOULDER.value].y]\n",
    "            elbow = [landmarks[mp_pose.PoseLandmark.LEFT_ELBOW.value].x,landmarks[mp_pose.PoseLandmark.LEFT_ELBOW.value].y]\n",
    "            wrist = [landmarks[mp_pose.PoseLandmark.LEFT_WRIST.value].x,landmarks[mp_pose.PoseLandmark.LEFT_WRIST.value].y]\n",
    "            \n",
    "            # Calculate angle\n",
    "            angle = calculate_angle(shoulder, elbow, wrist)\n",
    "            \n",
    "            # Visualize angle\n",
    "            cv2.putText(image, str(angle), \n",
    "                           tuple(np.multiply(elbow, [640, 480]).astype(int)), \n",
    "                           cv2.FONT_HERSHEY_SIMPLEX, 0.5, (255, 255, 255), 2, cv2.LINE_AA\n",
    "                                )\n",
    "                       \n",
    "        except:\n",
    "            pass\n",
    "        \n",
    "        \n",
    "        # Render detections\n",
    "        mp_drawing.draw_landmarks(image, results.pose_landmarks, mp_pose.POSE_CONNECTIONS,\n",
    "                                mp_drawing.DrawingSpec(color=(245,117,66), thickness=2, circle_radius=2), \n",
    "                                mp_drawing.DrawingSpec(color=(245,66,230), thickness=2, circle_radius=2) \n",
    "                                 )               \n",
    "        \n",
    "        cv2.imshow('Mediapipe Feed', image)\n",
    "\n",
    "        if cv2.waitKey(10) & 0xFF == ord('q'):\n",
    "            break\n",
    "\n",
    "    cap.release()\n",
    "    cv2.destroyAllWindows()"
   ]
  },
  {
   "cell_type": "code",
   "execution_count": 25,
   "id": "40f3faea-fb2e-4c18-b21a-327e02bf47c1",
   "metadata": {},
   "outputs": [],
   "source": [
    "#DUMBBELL REP COUNTER"
   ]
  },
  {
   "cell_type": "code",
   "execution_count": 26,
   "id": "7608dc3c-feb2-49f7-9b9e-56dfe5306fcc",
   "metadata": {},
   "outputs": [
    {
     "name": "stdout",
     "output_type": "stream",
     "text": [
      "1\n",
      "2\n",
      "3\n",
      "4\n",
      "5\n",
      "6\n",
      "7\n",
      "8\n",
      "9\n",
      "10\n",
      "11\n",
      "12\n",
      "13\n"
     ]
    }
   ],
   "source": [
    "cap = cv2.VideoCapture(0)\n",
    "\n",
    "# Curl counter variables\n",
    "counter = 0 \n",
    "stage = None\n",
    "\n",
    "## Setup mediapipe instance\n",
    "with mp_pose.Pose(min_detection_confidence=0.5, min_tracking_confidence=0.5) as pose:\n",
    "    while cap.isOpened():\n",
    "        ret, frame = cap.read()\n",
    "        \n",
    "        # Recolor image to RGB\n",
    "        image = cv2.cvtColor(frame, cv2.COLOR_BGR2RGB)\n",
    "        image.flags.writeable = False\n",
    "      \n",
    "        # Make detection\n",
    "        results = pose.process(image)\n",
    "    \n",
    "        # Recolor back to BGR\n",
    "        image.flags.writeable = True\n",
    "        image = cv2.cvtColor(image, cv2.COLOR_RGB2BGR)\n",
    "        \n",
    "        # Extract landmarks\n",
    "        try:\n",
    "            landmarks = results.pose_landmarks.landmark\n",
    "            \n",
    "            # Get coordinates\n",
    "            shoulder = [landmarks[mp_pose.PoseLandmark.LEFT_SHOULDER.value].x,landmarks[mp_pose.PoseLandmark.LEFT_SHOULDER.value].y]\n",
    "            elbow = [landmarks[mp_pose.PoseLandmark.LEFT_ELBOW.value].x,landmarks[mp_pose.PoseLandmark.LEFT_ELBOW.value].y]\n",
    "            wrist = [landmarks[mp_pose.PoseLandmark.LEFT_WRIST.value].x,landmarks[mp_pose.PoseLandmark.LEFT_WRIST.value].y]\n",
    "            \n",
    "            # Calculate angle\n",
    "            angle = calculate_angle(shoulder, elbow, wrist)\n",
    "            \n",
    "            # Visualize angle\n",
    "            cv2.putText(image, str(angle), \n",
    "                           tuple(np.multiply(elbow, [640, 480]).astype(int)), \n",
    "                           cv2.FONT_HERSHEY_SIMPLEX, 0.5, (255, 255, 255), 2, cv2.LINE_AA\n",
    "                                )\n",
    "            \n",
    "            # Curl counter logic\n",
    "            if angle > 160:\n",
    "                stage = \"down\"\n",
    "            if angle < 30 and stage =='down':\n",
    "                stage=\"up\"\n",
    "                counter +=1\n",
    "                print(counter)\n",
    "                       \n",
    "        except:\n",
    "            pass\n",
    "        \n",
    "        # Render curl counter\n",
    "        # Setup status box\n",
    "        cv2.rectangle(image, (0,0), (225,73), (245,117,16), -1)\n",
    "        \n",
    "        # Rep data\n",
    "        cv2.putText(image, 'REPS', (15,12), \n",
    "                    cv2.FONT_HERSHEY_SIMPLEX, 0.5, (0,0,0), 1, cv2.LINE_AA)\n",
    "        cv2.putText(image, str(counter), \n",
    "                    (10,60), \n",
    "                    cv2.FONT_HERSHEY_SIMPLEX, 2, (255,255,255), 2, cv2.LINE_AA)\n",
    "        \n",
    "        # Stage data\n",
    "        cv2.putText(image, 'STAGE', (65,12), \n",
    "                    cv2.FONT_HERSHEY_SIMPLEX, 0.5, (0,0,0), 1, cv2.LINE_AA)\n",
    "        cv2.putText(image, stage, \n",
    "                    (60,60), \n",
    "                    cv2.FONT_HERSHEY_SIMPLEX, 2, (255,255,255), 2, cv2.LINE_AA)\n",
    "        \n",
    "        \n",
    "        # Render detections\n",
    "        mp_drawing.draw_landmarks(image, results.pose_landmarks, mp_pose.POSE_CONNECTIONS,\n",
    "                                mp_drawing.DrawingSpec(color=(245,117,66), thickness=2, circle_radius=2), \n",
    "                                mp_drawing.DrawingSpec(color=(245,66,230), thickness=2, circle_radius=2) \n",
    "                                 )               \n",
    "        \n",
    "        cv2.imshow('Mediapipe Feed', image)\n",
    "\n",
    "        if cv2.waitKey(10) & 0xFF == ord('q'):\n",
    "            break\n",
    "\n",
    "    cap.release()\n",
    "    cv2.destroyAllWindows()\n"
   ]
  },
  {
   "cell_type": "code",
   "execution_count": null,
   "id": "c4132824-aca1-4796-a378-997b07a06c44",
   "metadata": {},
   "outputs": [],
   "source": [
    "#CONCLUSION\n",
    "#Not accurate in counting correct dumbbell lifting form!!"
   ]
  }
 ],
 "metadata": {
  "kernelspec": {
   "display_name": "Python 3 (ipykernel)",
   "language": "python",
   "name": "python3"
  },
  "language_info": {
   "codemirror_mode": {
    "name": "ipython",
    "version": 3
   },
   "file_extension": ".py",
   "mimetype": "text/x-python",
   "name": "python",
   "nbconvert_exporter": "python",
   "pygments_lexer": "ipython3",
   "version": "3.9.7"
  }
 },
 "nbformat": 4,
 "nbformat_minor": 5
}
