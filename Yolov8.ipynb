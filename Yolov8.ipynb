{
 "cells": [
  {
   "cell_type": "code",
   "execution_count": 1,
   "id": "646484bc-3bd1-421a-8680-a23bc53def5f",
   "metadata": {},
   "outputs": [
    {
     "name": "stdout",
     "output_type": "stream",
     "text": [
      "Requirement already satisfied: ultralytics in c:\\users\\iremide\\appdata\\roaming\\python\\python39\\site-packages (8.2.92)\n",
      "Requirement already satisfied: seaborn>=0.11.0 in c:\\users\\iremide\\anaconda3\\lib\\site-packages (from ultralytics) (0.11.2)\n",
      "Requirement already satisfied: ultralytics-thop>=2.0.0 in c:\\users\\iremide\\anaconda3\\lib\\site-packages (from ultralytics) (2.0.6)\n",
      "Requirement already satisfied: torch!=2.4.0,>=1.8.0 in c:\\users\\iremide\\anaconda3\\lib\\site-packages (from ultralytics) (2.2.1)\n",
      "Requirement already satisfied: pyyaml>=5.3.1 in c:\\users\\iremide\\anaconda3\\lib\\site-packages (from ultralytics) (6.0)\n",
      "Requirement already satisfied: pillow>=7.1.2 in c:\\users\\iremide\\anaconda3\\lib\\site-packages (from ultralytics) (10.2.0)\n",
      "Requirement already satisfied: psutil in c:\\users\\iremide\\anaconda3\\lib\\site-packages (from ultralytics) (5.8.0)\n",
      "Requirement already satisfied: requests>=2.23.0 in c:\\users\\iremide\\anaconda3\\lib\\site-packages (from ultralytics) (2.26.0)\n",
      "Requirement already satisfied: scipy>=1.4.1 in c:\\users\\iremide\\anaconda3\\lib\\site-packages (from ultralytics) (1.12.0)\n",
      "Requirement already satisfied: numpy<2.0.0,>=1.23.0 in c:\\users\\iremide\\anaconda3\\lib\\site-packages (from ultralytics) (1.26.4)\n",
      "Requirement already satisfied: matplotlib>=3.3.0 in c:\\users\\iremide\\anaconda3\\lib\\site-packages (from ultralytics) (3.4.3)\n",
      "Requirement already satisfied: tqdm>=4.64.0 in c:\\users\\iremide\\anaconda3\\lib\\site-packages (from ultralytics) (4.66.5)\n",
      "Requirement already satisfied: torchvision>=0.9.0 in c:\\users\\iremide\\appdata\\roaming\\python\\python39\\site-packages (from ultralytics) (0.17.1)\n",
      "Requirement already satisfied: opencv-python>=4.6.0 in c:\\users\\iremide\\appdata\\roaming\\python\\python39\\site-packages (from ultralytics) (4.9.0.80)\n",
      "Requirement already satisfied: pandas>=1.1.4 in c:\\users\\iremide\\appdata\\roaming\\python\\python39\\site-packages (from ultralytics) (2.2.1)\n",
      "Requirement already satisfied: py-cpuinfo in c:\\users\\iremide\\appdata\\roaming\\python\\python39\\site-packages (from ultralytics) (9.0.0)\n",
      "Requirement already satisfied: pyparsing>=2.2.1 in c:\\users\\iremide\\anaconda3\\lib\\site-packages (from matplotlib>=3.3.0->ultralytics) (3.0.4)\n",
      "Requirement already satisfied: kiwisolver>=1.0.1 in c:\\users\\iremide\\anaconda3\\lib\\site-packages (from matplotlib>=3.3.0->ultralytics) (1.3.1)\n",
      "Requirement already satisfied: python-dateutil>=2.7 in c:\\users\\iremide\\anaconda3\\lib\\site-packages (from matplotlib>=3.3.0->ultralytics) (2.8.2)\n",
      "Requirement already satisfied: cycler>=0.10 in c:\\users\\iremide\\anaconda3\\lib\\site-packages (from matplotlib>=3.3.0->ultralytics) (0.10.0)\n",
      "Requirement already satisfied: six in c:\\users\\iremide\\anaconda3\\lib\\site-packages (from cycler>=0.10->matplotlib>=3.3.0->ultralytics) (1.16.0)\n",
      "Requirement already satisfied: tzdata>=2022.7 in c:\\users\\iremide\\anaconda3\\lib\\site-packages (from pandas>=1.1.4->ultralytics) (2024.1)\n",
      "Requirement already satisfied: pytz>=2020.1 in c:\\users\\iremide\\anaconda3\\lib\\site-packages (from pandas>=1.1.4->ultralytics) (2021.3)\n",
      "Requirement already satisfied: charset-normalizer~=2.0.0 in c:\\users\\iremide\\anaconda3\\lib\\site-packages (from requests>=2.23.0->ultralytics) (2.0.4)\n",
      "Requirement already satisfied: idna<4,>=2.5 in c:\\users\\iremide\\anaconda3\\lib\\site-packages (from requests>=2.23.0->ultralytics) (3.2)\n",
      "Requirement already satisfied: certifi>=2017.4.17 in c:\\users\\iremide\\anaconda3\\lib\\site-packages (from requests>=2.23.0->ultralytics) (2021.10.8)\n",
      "Requirement already satisfied: urllib3<1.27,>=1.21.1 in c:\\users\\iremide\\anaconda3\\lib\\site-packages (from requests>=2.23.0->ultralytics) (1.26.7)\n",
      "Requirement already satisfied: typing-extensions>=4.8.0 in c:\\users\\iremide\\anaconda3\\lib\\site-packages (from torch!=2.4.0,>=1.8.0->ultralytics) (4.10.0)\n",
      "Requirement already satisfied: sympy in c:\\users\\iremide\\anaconda3\\lib\\site-packages (from torch!=2.4.0,>=1.8.0->ultralytics) (1.9)\n",
      "Requirement already satisfied: fsspec in c:\\users\\iremide\\anaconda3\\lib\\site-packages (from torch!=2.4.0,>=1.8.0->ultralytics) (2024.3.1)\n",
      "Requirement already satisfied: networkx in c:\\users\\iremide\\anaconda3\\lib\\site-packages (from torch!=2.4.0,>=1.8.0->ultralytics) (3.2.1)\n",
      "Requirement already satisfied: filelock in c:\\users\\iremide\\anaconda3\\lib\\site-packages (from torch!=2.4.0,>=1.8.0->ultralytics) (3.3.1)\n",
      "Requirement already satisfied: jinja2 in c:\\users\\iremide\\anaconda3\\lib\\site-packages (from torch!=2.4.0,>=1.8.0->ultralytics) (2.11.3)\n",
      "Requirement already satisfied: colorama in c:\\users\\iremide\\anaconda3\\lib\\site-packages (from tqdm>=4.64.0->ultralytics) (0.4.4)\n",
      "Requirement already satisfied: MarkupSafe>=0.23 in c:\\users\\iremide\\anaconda3\\lib\\site-packages (from jinja2->torch!=2.4.0,>=1.8.0->ultralytics) (1.1.1)\n",
      "Requirement already satisfied: mpmath>=0.19 in c:\\users\\iremide\\anaconda3\\lib\\site-packages (from sympy->torch!=2.4.0,>=1.8.0->ultralytics) (1.2.1)\n"
     ]
    }
   ],
   "source": [
    "#install dependency\n",
    "!pip install ultralytics --user"
   ]
  },
  {
   "cell_type": "code",
   "execution_count": 2,
   "id": "9bffa2c7-7f47-4e9c-a13b-100dbf3b989b",
   "metadata": {},
   "outputs": [
    {
     "name": "stdout",
     "output_type": "stream",
     "text": [
      "Requirement already satisfied: lap in c:\\users\\iremide\\anaconda3\\lib\\site-packages (0.4.0)\n"
     ]
    }
   ],
   "source": [
    "#install dependency\n",
    "!pip install lap"
   ]
  },
  {
   "cell_type": "code",
   "execution_count": 3,
   "id": "33482091-0347-40e0-abcf-bb916b5265e5",
   "metadata": {},
   "outputs": [
    {
     "name": "stderr",
     "output_type": "stream",
     "text": [
      "C:\\Users\\Iremide\\AppData\\Roaming\\Python\\Python39\\site-packages\\pandas\\core\\computation\\expressions.py:21: UserWarning: Pandas requires version '2.8.4' or newer of 'numexpr' (version '2.7.3' currently installed).\n",
      "  from pandas.core.computation.check import NUMEXPR_INSTALLED\n",
      "C:\\Users\\Iremide\\AppData\\Roaming\\Python\\Python39\\site-packages\\pandas\\core\\arrays\\masked.py:60: UserWarning: Pandas requires version '1.3.6' or newer of 'bottleneck' (version '1.3.2' currently installed).\n",
      "  from pandas.core import (\n"
     ]
    }
   ],
   "source": [
    "# Import libraries, Yolov8n Model\n",
    "import ultralytics\n",
    "from ultralytics.solutions import ai_gym\n",
    "from ultralytics import YOLO, solutions\n",
    "import cv2\n",
    "\n",
    "# pre-trained pose estimation model\n",
    "model = YOLO(\"yolov8n-pose.pt\")\n",
    "\n",
    "# Initialize video capture from webcam (0)\n",
    "cap = cv2.VideoCapture(0)\n",
    "#cap = cv2.VideoCapture(\"pushup.mp4\")\n",
    "# Ensure the video capture is opened correctly\n",
    "assert cap.isOpened(), \"Error reading video file\"\n",
    "\n",
    "# Retrieve video properties: width, height, and frames per second (fps)\n",
    "w, h, fps = (int(cap.get(x)) for x in (cv2.CAP_PROP_FRAME_WIDTH, cv2.CAP_PROP_FRAME_HEIGHT, cv2.CAP_PROP_FPS))\n",
    "\n",
    "# save video output\n",
    "video_writer = cv2.VideoWriter(\"output.mp4\", cv2.VideoWriter_fourcc(*\"mp4v\"), fps, (w, h))\n",
    "\n",
    "# Initialize the AI Gym object for counting pushups, \n",
    "# with specific line thickness and keypoints to check\n",
    "gym_object = ai_gym.AIGym(\n",
    "    line_thickness=2,\n",
    "    view_img=True,\n",
    "    pose_type=\"pushup\",\n",
    "    kpts_to_check=[6, 8, 10],\n",
    ")\n",
    "\n",
    "\n",
    "frame_count = 0\n",
    "# Loop to process video frames\n",
    "while cap.isOpened():\n",
    "    success, im0 = cap.read()\n",
    "    # Break the loop if no more frames are available or video processing is complete\n",
    "    if not success:\n",
    "        print(\"Video frame is empty or video processing has been successfully completed.\")\n",
    "        break\n",
    "    frame_count += 1   \n",
    "\n",
    "    # Track objects on current frame\n",
    "    results = model.track(im0, verbose=False)\n",
    "    #count based on pose estimation results\n",
    "    im0 = gym_object.start_counting(im0, results)\n",
    "    # Write the processed frame to the output video file\n",
    "    video_writer.write(im0)\n",
    "    \n",
    "    # Exit the loop if the 'q' key is pressed\n",
    "    if cv2.waitKey(1) & 0xFF == ord(\"q\"):\n",
    "        break\n",
    "\n",
    "# Release video writer and capture objects, and close all OpenCV windows        \n",
    "video_writer.release()\n",
    "cap.release()\n",
    "cv2.destroyAllWindows()"
   ]
  }
 ],
 "metadata": {
  "kernelspec": {
   "display_name": "Python 3 (ipykernel)",
   "language": "python",
   "name": "python3"
  },
  "language_info": {
   "codemirror_mode": {
    "name": "ipython",
    "version": 3
   },
   "file_extension": ".py",
   "mimetype": "text/x-python",
   "name": "python",
   "nbconvert_exporter": "python",
   "pygments_lexer": "ipython3",
   "version": "3.9.7"
  }
 },
 "nbformat": 4,
 "nbformat_minor": 5
}
